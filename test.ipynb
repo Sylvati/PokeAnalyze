{
 "cells": [
  {
   "cell_type": "code",
   "execution_count": 3,
   "metadata": {},
   "outputs": [],
   "source": [
    "# This class is used for running commands.\n",
    "import subprocess \n",
    "\n",
    "# This is an example of how to run a command. You make a variable to hold the CompletedProcess object.\n",
    "# completed_dir_command = subprocess.run([\"dir\"], shell=True, capture_output=True)\n",
    "\n",
    "# In order to properly print it, you must decode the bytes object of the stdout into a string, or else it will look ugly.\n",
    "# print(completed_dir_command.stdout.decode(\"UTF-8\"))\n",
    "\n",
    "# Further documentation is here:\n",
    "# https://docs.python.org/3/library/subprocess.html#module-subprocess"
   ]
  },
  {
   "cell_type": "code",
   "execution_count": null,
   "metadata": {},
   "outputs": [],
   "source": [
    "class Pokemon_Showdown_CLI_Interface:\n",
    "    # Initialize a CLI instance.\n",
    "    def __init__(self):\n",
    "        # This must be at the start of every command.\n",
    "        self.prefix = r\"node pokemon-showdown-access.js \"\n",
    "        # This makes logging togglable\n",
    "        self.logging = False\n",
    "        # Helps keep an order to executed commands in logging\n",
    "        self.command_number = 1\n",
    "        # Secret print debug (makes things messy) (turn on if you know what you're doing)\n",
    "        self.secret_print_debug = False\n",
    "\n",
    "    # Non-CLI functions\n",
    "\n",
    "    # Helps reduce redundant logging code\n",
    "    def log(self, string):\n",
    "        # If logging is enabled,\n",
    "        if(self.logging):\n",
    "            # Print the log with the current command number\n",
    "            print(f\"[{self.command_number}] {string}\")\n",
    "            # Increase the command number\n",
    "            self.command_number += 1\n",
    "\n",
    "    # Toggle logging\n",
    "    def toggle_logging(self):\n",
    "        # Swap the value\n",
    "        self.logging = not self.logging\n",
    "        # Log that we ran this command\n",
    "        self.log(\"Logging enabled\")\n",
    "\n",
    "    # CLI functions\n",
    "\n",
    "    # Start pokemon-showdown\n",
    "    # Not implemented. Running showdown as a server isn't necessary right now.\n",
    "\n",
    "    # Generate a team\n",
    "    def generate_team(self):\n",
    "        # Create the command\n",
    "        command = self.prefix + \"generate-team\"\n",
    "        # Run the command\n",
    "        completed_command = subprocess.run(command, shell=True, capture_output=True)\n",
    "        # Print the command raw.\n",
    "        if(self.secret_print_debug):\n",
    "            print(completed_command)\n",
    "        # Collect the output by decoding the output\n",
    "        team_string = completed_command.stdout.decode()\n",
    "        # Log that we ran this command\n",
    "        self.log(\"Generated team\")\n",
    "        # Return the team\n",
    "        return team_string\n"
   ]
  },
  {
   "cell_type": "code",
   "execution_count": null,
   "metadata": {},
   "outputs": [
    {
     "ename": "NameError",
     "evalue": "name 'Pokemon_Showdown_CLI_Interface' is not defined",
     "output_type": "error",
     "traceback": [
      "\u001b[1;31m---------------------------------------------------------------------------\u001b[0m",
      "\u001b[1;31mNameError\u001b[0m                                 Traceback (most recent call last)",
      "Cell \u001b[1;32mIn[1], line 1\u001b[0m\n\u001b[1;32m----> 1\u001b[0m pokemon_showdown_cli \u001b[38;5;241m=\u001b[39m \u001b[43mPokemon_Showdown_CLI_Interface\u001b[49m()\n\u001b[0;32m      3\u001b[0m pokemon_showdown_cli\u001b[38;5;241m.\u001b[39msecret_print_debug \u001b[38;5;241m=\u001b[39m \u001b[38;5;28;01mTrue\u001b[39;00m\n\u001b[0;32m      4\u001b[0m pokemon_showdown_cli\u001b[38;5;241m.\u001b[39mtoggle_logging()\n",
      "\u001b[1;31mNameError\u001b[0m: name 'Pokemon_Showdown_CLI_Interface' is not defined"
     ]
    }
   ],
   "source": [
    "pokemon_showdown_cli = Pokemon_Showdown_CLI_Interface()\n",
    "\n",
    "pokemon_showdown_cli.secret_print_debug = True\n",
    "pokemon_showdown_cli.toggle_logging()\n",
    "#help_statement = pokemon_showdown_cli.help()\n",
    "#print(help_statement, end='')\n",
    "#team_string = pokemon_showdown_cli.generate_team()\n",
    "#print(team_string)\n",
    "\n"
   ]
  },
  {
   "cell_type": "code",
   "execution_count": 48,
   "metadata": {},
   "outputs": [
    {
     "name": "stdout",
     "output_type": "stream",
     "text": [
      "[+1] Player 2 had a poke faint.\n",
      "1\n"
     ]
    }
   ],
   "source": [
    "result = subprocess.run(\"node pokemon-showdown-access.js\", capture_output=True)\n",
    "\n",
    "game_log = result.stdout.decode()\n",
    "\n",
    "import re\n",
    "\n",
    "def evaluate_position(game_log):\n",
    "    # Will store the weight of various happenings.\n",
    "    eval_weight = {\n",
    "        \"faint\": 1\n",
    "    }\n",
    "    # This is how we will compare \"winning\" and \"losing\"\n",
    "    # Kinda inspired by chess?\n",
    "    # p1 is +, p2 is -\n",
    "    game_evaluation = 0\n",
    "\n",
    "    # Gets faint lines using regex\n",
    "    # ^ = start of the line\n",
    "    # .* = zero or more characters\n",
    "    # \\b = begin word border\n",
    "    # \\b = end word border\n",
    "    # .* = zero or more characters\n",
    "    # $ = end of the line\n",
    "    # Combined effect? Gets the lines where pokemon\n",
    "    # faint data is contained.\n",
    "    faints = re.findall(r\"^.*\\bfaint\\b.*$\", game_log, re.MULTILINE)\n",
    "    if len(faints) > 0:\n",
    "        for faint in faints:\n",
    "            if \"p1\" in faint:\n",
    "                print(f\"[-{eval_weight[\"faint\"]}] Player 1 had a poke faint.\")\n",
    "                game_evaluation -= eval_weight[\"faint\"]\n",
    "            if \"p2\" in faint:\n",
    "                print(f\"[+{eval_weight[\"faint\"]}] Player 2 had a poke faint.\")\n",
    "                game_evaluation += eval_weight[\"faint\"]\n",
    "    else:\n",
    "        print(f\"[0] No players had any pokes faint.\")\n",
    "\n",
    "    return game_evaluation\n",
    "\n",
    "eval = evaluate_position(game_log)\n",
    "print(eval)\n"
   ]
  }
 ],
 "metadata": {
  "kernelspec": {
   "display_name": ".venv",
   "language": "python",
   "name": "python3"
  },
  "language_info": {
   "codemirror_mode": {
    "name": "ipython",
    "version": 3
   },
   "file_extension": ".py",
   "mimetype": "text/x-python",
   "name": "python",
   "nbconvert_exporter": "python",
   "pygments_lexer": "ipython3",
   "version": "3.13.1"
  }
 },
 "nbformat": 4,
 "nbformat_minor": 2
}
